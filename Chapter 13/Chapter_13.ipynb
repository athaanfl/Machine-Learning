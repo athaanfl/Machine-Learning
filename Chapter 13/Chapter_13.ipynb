{
  "nbformat": 4,
  "nbformat_minor": 0,
  "metadata": {
    "colab": {
      "provenance": []
    },
    "kernelspec": {
      "name": "python3",
      "display_name": "Python 3"
    },
    "language_info": {
      "name": "python"
    }
  },
  "cells": [
    {
      "cell_type": "markdown",
      "source": [
        "# Chapter 13: Loading and Preprocessing Data with TensorFlow - Notebook Reproduksi Kode\n",
        "\n",
        "Bab ini membahas cara efisien memuat dan memproses dataset besar menggunakan\n",
        "TensorFlow's `tf.data` API, yang sangat penting untuk membangun pipeline data\n",
        "yang skalabel dan efisien untuk Deep Learning.\n",
        "\n",
        "Kita akan melihat:\n",
        "- tf.data API untuk membuat pipeline input.\n",
        "- Membangun pipeline sederhana (from_tensor_slices, batch, shuffle, prefetch).\n",
        "- Transformasi data (map, filter, interleave).\n",
        "- Menguraikan data TensorFlow Record.\n",
        "- tf.io.TFRecordWriter dan TFRecordDataset.\n",
        "- Input preprocessor menggunakan Keras Preprocessing Layers."
      ],
      "metadata": {
        "id": "fIPGIQseDajM"
      }
    },
    {
      "cell_type": "code",
      "execution_count": 2,
      "metadata": {
        "colab": {
          "base_uri": "https://localhost:8080/"
        },
        "id": "NHdI4faSDXDh",
        "outputId": "4b052348-934b-4496-9382-3815c3ec7657"
      },
      "outputs": [
        {
          "output_type": "stream",
          "name": "stdout",
          "text": [
            "Melatih model dengan tf.data.Dataset...\n",
            "Epoch 1/5\n"
          ]
        },
        {
          "output_type": "stream",
          "name": "stderr",
          "text": [
            "/usr/local/lib/python3.11/dist-packages/keras/src/layers/core/dense.py:87: UserWarning: Do not pass an `input_shape`/`input_dim` argument to a layer. When using Sequential models, prefer using an `Input(shape)` object as the first layer in the model instead.\n",
            "  super().__init__(activity_regularizer=activity_regularizer, **kwargs)\n"
          ]
        },
        {
          "output_type": "stream",
          "name": "stdout",
          "text": [
            "\u001b[1m363/363\u001b[0m \u001b[32m━━━━━━━━━━━━━━━━━━━━\u001b[0m\u001b[37m\u001b[0m \u001b[1m3s\u001b[0m 6ms/step - loss: 2.8732\n",
            "Epoch 2/5\n",
            "\u001b[1m363/363\u001b[0m \u001b[32m━━━━━━━━━━━━━━━━━━━━\u001b[0m\u001b[37m\u001b[0m \u001b[1m1s\u001b[0m 3ms/step - loss: 0.7677\n",
            "Epoch 3/5\n",
            "\u001b[1m363/363\u001b[0m \u001b[32m━━━━━━━━━━━━━━━━━━━━\u001b[0m\u001b[37m\u001b[0m \u001b[1m1s\u001b[0m 1ms/step - loss: 0.6808\n",
            "Epoch 4/5\n",
            "\u001b[1m363/363\u001b[0m \u001b[32m━━━━━━━━━━━━━━━━━━━━\u001b[0m\u001b[37m\u001b[0m \u001b[1m1s\u001b[0m 1ms/step - loss: 0.6203\n",
            "Epoch 5/5\n",
            "\u001b[1m363/363\u001b[0m \u001b[32m━━━━━━━━━━━━━━━━━━━━\u001b[0m\u001b[37m\u001b[0m \u001b[1m1s\u001b[0m 1ms/step - loss: 0.5940\n",
            "\u001b[1m162/162\u001b[0m \u001b[32m━━━━━━━━━━━━━━━━━━━━\u001b[0m\u001b[37m\u001b[0m \u001b[1m0s\u001b[0m 1ms/step - loss: 0.5848\n",
            "\n",
            "Loss pada set pengujian: 0.5813\n"
          ]
        }
      ],
      "source": [
        "import tensorflow as tf\n",
        "from tensorflow import keras\n",
        "import numpy as np\n",
        "import pandas as pd\n",
        "import matplotlib.pyplot as plt\n",
        "import os\n",
        "from sklearn.datasets import fetch_california_housing\n",
        "from sklearn.model_selection import train_test_split\n",
        "from sklearn.preprocessing import StandardScaler\n",
        "\n",
        "# --- Setup ---\n",
        "np.random.seed(42)\n",
        "tf.random.set_seed(42)\n",
        "\n",
        "# --- Data Preparation ---\n",
        "housing = fetch_california_housing()\n",
        "X_train_full, X_test, y_train_full, y_test = train_test_split(\n",
        "    housing.data, housing.target, random_state=42)\n",
        "X_train, X_valid, y_train, y_valid = train_test_split(\n",
        "    X_train_full, y_train_full, random_state=42)\n",
        "\n",
        "scaler = StandardScaler()\n",
        "X_train_scaled = scaler.fit_transform(X_train)\n",
        "X_valid_scaled = scaler.transform(X_valid)\n",
        "X_test_scaled = scaler.transform(X_test)\n",
        "\n",
        "# --- tf.data Pipeline ---\n",
        "batch_size = 32\n",
        "n_epochs = 5\n",
        "shuffle_buffer_size = 1000\n",
        "\n",
        "dataset = tf.data.Dataset.from_tensor_slices((X_train_scaled, y_train))\n",
        "dataset = dataset.shuffle(shuffle_buffer_size).batch(batch_size).prefetch(1)\n",
        "\n",
        "# --- Model ---\n",
        "model = keras.models.Sequential([\n",
        "    keras.layers.Dense(30, activation=\"relu\", input_shape=X_train_scaled.shape[1:]),\n",
        "    keras.layers.Dense(1)\n",
        "])\n",
        "\n",
        "model.compile(loss=\"mse\", optimizer=keras.optimizers.SGD(learning_rate=0.001))\n",
        "\n",
        "# --- Training ---\n",
        "print(\"Melatih model dengan tf.data.Dataset...\")\n",
        "history = model.fit(dataset, epochs=n_epochs, verbose=1)\n",
        "\n",
        "# --- Evaluasi ---\n",
        "loss = model.evaluate(X_test_scaled, y_test)\n",
        "print(f\"\\nLoss pada set pengujian: {loss:.4f}\")\n"
      ]
    }
  ]
}