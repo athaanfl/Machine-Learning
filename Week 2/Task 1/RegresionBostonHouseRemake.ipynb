{
  "nbformat": 4,
  "nbformat_minor": 0,
  "metadata": {
    "colab": {
      "provenance": []
    },
    "kernelspec": {
      "name": "python3",
      "display_name": "Python 3"
    },
    "language_info": {
      "name": "python"
    }
  },
  "cells": [
    {
      "cell_type": "markdown",
      "metadata": {
        "id": "view-in-github"
      },
      "source": [
        "<a href=\"https://colab.research.google.com/github/farrelrassya/teachingMLDL/blob/main/01.%20Machine%20Learning/02.%20Week%202/Notebook/RegresionBostonHouse.ipynb\" target=\"_parent\"><img src=\"https://colab.research.google.com/assets/colab-badge.svg\" alt=\"Open In Colab\"/></a>"
      ]
    },
    {
      "cell_type": "code",
      "execution_count": null,
      "metadata": {
        "colab": {
          "base_uri": "https://localhost:8080/",
          "height": 1000
        },
        "id": "ZeKEGtkTP2Wu",
        "outputId": "7ce58092-d49b-40cf-bc71-df3bdd01b74f"
      },
      "outputs": [
        {
          "output_type": "error",
          "ename": "ImportError",
          "evalue": "\n`load_boston` has been removed from scikit-learn since version 1.2.\n\nThe Boston housing prices dataset has an ethical problem: as\ninvestigated in [1], the authors of this dataset engineered a\nnon-invertible variable \"B\" assuming that racial self-segregation had a\npositive impact on house prices [2]. Furthermore the goal of the\nresearch that led to the creation of this dataset was to study the\nimpact of air quality but it did not give adequate demonstration of the\nvalidity of this assumption.\n\nThe scikit-learn maintainers therefore strongly discourage the use of\nthis dataset unless the purpose of the code is to study and educate\nabout ethical issues in data science and machine learning.\n\nIn this special case, you can fetch the dataset from the original\nsource::\n\n    import pandas as pd\n    import numpy as np\n\n    data_url = \"http://lib.stat.cmu.edu/datasets/boston\"\n    raw_df = pd.read_csv(data_url, sep=\"\\s+\", skiprows=22, header=None)\n    data = np.hstack([raw_df.values[::2, :], raw_df.values[1::2, :2]])\n    target = raw_df.values[1::2, 2]\n\nAlternative datasets include the California housing dataset and the\nAmes housing dataset. You can load the datasets as follows::\n\n    from sklearn.datasets import fetch_california_housing\n    housing = fetch_california_housing()\n\nfor the California housing dataset and::\n\n    from sklearn.datasets import fetch_openml\n    housing = fetch_openml(name=\"house_prices\", as_frame=True)\n\nfor the Ames housing dataset.\n\n[1] M Carlisle.\n\"Racist data destruction?\"\n<https://medium.com/@docintangible/racist-data-destruction-113e3eff54a8>\n\n[2] Harrison Jr, David, and Daniel L. Rubinfeld.\n\"Hedonic housing prices and the demand for clean air.\"\nJournal of environmental economics and management 5.1 (1978): 81-102.\n<https://www.researchgate.net/publication/4974606_Hedonic_housing_prices_and_the_demand_for_clean_air>\n",
          "traceback": [
            "\u001b[0;31m---------------------------------------------------------------------------\u001b[0m",
            "\u001b[0;31mImportError\u001b[0m                               Traceback (most recent call last)",
            "\u001b[0;32m<ipython-input-4-c4e5b3e40dec>\u001b[0m in \u001b[0;36m<cell line: 0>\u001b[0;34m()\u001b[0m\n\u001b[0;32m----> 1\u001b[0;31m \u001b[0;32mfrom\u001b[0m \u001b[0msklearn\u001b[0m\u001b[0;34m.\u001b[0m\u001b[0mdatasets\u001b[0m \u001b[0;32mimport\u001b[0m \u001b[0mload_boston\u001b[0m\u001b[0;34m\u001b[0m\u001b[0;34m\u001b[0m\u001b[0m\n\u001b[0m\u001b[1;32m      2\u001b[0m \u001b[0mdata\u001b[0m \u001b[0;34m=\u001b[0m \u001b[0mload_boston\u001b[0m\u001b[0;34m(\u001b[0m\u001b[0;34m)\u001b[0m\u001b[0;34m\u001b[0m\u001b[0;34m\u001b[0m\u001b[0m\n\u001b[1;32m      3\u001b[0m \u001b[0mX\u001b[0m \u001b[0;34m=\u001b[0m \u001b[0mdata\u001b[0m\u001b[0;34m.\u001b[0m\u001b[0mdata\u001b[0m\u001b[0;34m\u001b[0m\u001b[0;34m\u001b[0m\u001b[0m\n\u001b[1;32m      4\u001b[0m \u001b[0my\u001b[0m \u001b[0;34m=\u001b[0m \u001b[0mdata\u001b[0m\u001b[0;34m.\u001b[0m\u001b[0mtarget\u001b[0m\u001b[0;34m\u001b[0m\u001b[0;34m\u001b[0m\u001b[0m\n\u001b[1;32m      5\u001b[0m \u001b[0;34m\u001b[0m\u001b[0m\n",
            "\u001b[0;32m/usr/local/lib/python3.11/dist-packages/sklearn/datasets/__init__.py\u001b[0m in \u001b[0;36m__getattr__\u001b[0;34m(name)\u001b[0m\n\u001b[1;32m    159\u001b[0m             \"\"\"\n\u001b[1;32m    160\u001b[0m         )\n\u001b[0;32m--> 161\u001b[0;31m         \u001b[0;32mraise\u001b[0m \u001b[0mImportError\u001b[0m\u001b[0;34m(\u001b[0m\u001b[0mmsg\u001b[0m\u001b[0;34m)\u001b[0m\u001b[0;34m\u001b[0m\u001b[0;34m\u001b[0m\u001b[0m\n\u001b[0m\u001b[1;32m    162\u001b[0m     \u001b[0;32mtry\u001b[0m\u001b[0;34m:\u001b[0m\u001b[0;34m\u001b[0m\u001b[0;34m\u001b[0m\u001b[0m\n\u001b[1;32m    163\u001b[0m         \u001b[0;32mreturn\u001b[0m \u001b[0mglobals\u001b[0m\u001b[0;34m(\u001b[0m\u001b[0;34m)\u001b[0m\u001b[0;34m[\u001b[0m\u001b[0mname\u001b[0m\u001b[0;34m]\u001b[0m\u001b[0;34m\u001b[0m\u001b[0;34m\u001b[0m\u001b[0m\n",
            "\u001b[0;31mImportError\u001b[0m: \n`load_boston` has been removed from scikit-learn since version 1.2.\n\nThe Boston housing prices dataset has an ethical problem: as\ninvestigated in [1], the authors of this dataset engineered a\nnon-invertible variable \"B\" assuming that racial self-segregation had a\npositive impact on house prices [2]. Furthermore the goal of the\nresearch that led to the creation of this dataset was to study the\nimpact of air quality but it did not give adequate demonstration of the\nvalidity of this assumption.\n\nThe scikit-learn maintainers therefore strongly discourage the use of\nthis dataset unless the purpose of the code is to study and educate\nabout ethical issues in data science and machine learning.\n\nIn this special case, you can fetch the dataset from the original\nsource::\n\n    import pandas as pd\n    import numpy as np\n\n    data_url = \"http://lib.stat.cmu.edu/datasets/boston\"\n    raw_df = pd.read_csv(data_url, sep=\"\\s+\", skiprows=22, header=None)\n    data = np.hstack([raw_df.values[::2, :], raw_df.values[1::2, :2]])\n    target = raw_df.values[1::2, 2]\n\nAlternative datasets include the California housing dataset and the\nAmes housing dataset. You can load the datasets as follows::\n\n    from sklearn.datasets import fetch_california_housing\n    housing = fetch_california_housing()\n\nfor the California housing dataset and::\n\n    from sklearn.datasets import fetch_openml\n    housing = fetch_openml(name=\"house_prices\", as_frame=True)\n\nfor the Ames housing dataset.\n\n[1] M Carlisle.\n\"Racist data destruction?\"\n<https://medium.com/@docintangible/racist-data-destruction-113e3eff54a8>\n\n[2] Harrison Jr, David, and Daniel L. Rubinfeld.\n\"Hedonic housing prices and the demand for clean air.\"\nJournal of environmental economics and management 5.1 (1978): 81-102.\n<https://www.researchgate.net/publication/4974606_Hedonic_housing_prices_and_the_demand_for_clean_air>\n",
            "",
            "\u001b[0;31m---------------------------------------------------------------------------\u001b[0;32m\nNOTE: If your import is failing due to a missing package, you can\nmanually install dependencies using either !pip or !apt.\n\nTo view examples of installing some common dependencies, click the\n\"Open Examples\" button below.\n\u001b[0;31m---------------------------------------------------------------------------\u001b[0m\n"
          ],
          "errorDetails": {
            "actions": [
              {
                "action": "open_url",
                "actionText": "Open Examples",
                "url": "/notebooks/snippets/importing_libraries.ipynb"
              }
            ]
          }
        }
      ],
      "source": [
        "from sklearn.datasets import load_boston\n",
        "data = load_boston()\n",
        "X = data.data\n",
        "y = data.target\n",
        "\n",
        "#`load_boston` has been removed from scikit-learn since version 1.2."
      ]
    },
    {
      "cell_type": "code",
      "source": [
        "import pandas as pd\n",
        "\n",
        "url = \"https://raw.githubusercontent.com/selva86/datasets/master/BostonHousing.csv\"\n",
        "df = pd.read_csv(url)\n",
        "print(df.head())"
      ],
      "metadata": {
        "id": "c0Ej5LS2WUZx"
      },
      "execution_count": null,
      "outputs": []
    },
    {
      "cell_type": "code",
      "source": [
        "df.info()"
      ],
      "metadata": {
        "id": "qD4UhG0zW0y_"
      },
      "execution_count": null,
      "outputs": []
    },
    {
      "cell_type": "code",
      "source": [
        "corr = df.corr()\n",
        "\n",
        "# Bikin heatmap korelasi\n",
        "plt.figure(figsize=(10, 8))\n",
        "sns.heatmap(corr, annot=True, cmap=\"coolwarm\")\n",
        "plt.title(\"Heatmap Korelasi\")\n",
        "plt.show()"
      ],
      "metadata": {
        "id": "GdvkS9tIQD6w"
      },
      "execution_count": null,
      "outputs": []
    },
    {
      "cell_type": "markdown",
      "source": [
        "$$\n",
        "r = \\frac{\\sum_{i=1}^{n} (x_i - \\bar{x})(y_i - \\bar{y})}{\\sqrt{\\sum_{i=1}^{n} (x_i - \\bar{x})^2 \\sum_{i=1}^{n} (y_i - \\bar{y})^2}}\n",
        "$$"
      ],
      "metadata": {
        "id": "AEtx0MfjQXQO"
      }
    },
    {
      "cell_type": "markdown",
      "source": [
        "Penjelasan Lengkap Persamaan Korelasi Pearson:\n",
        "\n",
        "1. Definisi:\n",
        "   - $r$ adalah koefisien korelasi Pearson yang mengukur kekuatan dan arah hubungan linear antara dua variabel.\n",
        "   - Nilai $r$ berkisar antara -1 (korelasi negatif sempurna) hingga 1 (korelasi positif sempurna), dengan $r = 0$ artinya tidak ada hubungan linear yang signifikan.\n",
        "\n",
        "2. Numerator:\n",
        "   - Numerator, yaitu $\\sum_{i=1}^{n} (x_i - \\bar{x})(y_i - \\bar{y})$, merupakan jumlah dari produk deviasi setiap nilai $x_i$ dan $y_i$ terhadap rata-rata masing-masing, $\\bar{x}$ dan $\\bar{y}$.\n",
        "   - Jika nilai $x_i$ dan $y_i$ sama-sama di atas atau di bawah rata-rata, produk deviasinya positif, menandakan hubungan positif. Sebaliknya, jika salah satunya di atas dan yang lainnya di bawah rata-rata, produk deviasinya negatif, menandakan hubungan negatif.\n",
        "\n",
        "3. Denumerator:\n",
        "   - Denumerator adalah $\\sqrt{\\sum_{i=1}^{n} (x_i - \\bar{x})^2 \\sum_{i=1}^{n} (y_i - \\bar{y})^2}$.\n",
        "   - Bagian ini menghitung total variasi masing-masing variabel dengan mengakumulasi kuadrat deviasi terhadap rata-rata, mengalikan kedua jumlah tersebut, lalu diakarkan. Ini menormalisasi nilai $r$, memastikan hasilnya selalu berada dalam rentang -1 sampai 1.\n",
        "\n",
        "4. Interpretasi:\n",
        "   - $r = 1$: Hubungan linear positif sempurna, artinya kenaikan $x$ selalu diiringi kenaikan $y$ secara proporsional.\n",
        "   - $r = -1$: Hubungan linear negatif sempurna, artinya kenaikan $x$ diiringi penurunan $y$ secara proporsional.\n",
        "   - $r = 0$: Tidak ada hubungan linear yang signifikan antara variabel.\n",
        "\n",
        "5. Aplikasi:\n",
        "   - Persamaan ini sering digunakan dalam statistik, machine learning, dan penelitian untuk mengevaluasi serta memahami hubungan antara variabel.\n",
        "   - Normalisasi pada denumerator memastikan bahwa skala variabel tidak mempengaruhi besarnya koefisien korelasi.\n"
      ],
      "metadata": {
        "id": "IzlNXEfWQsdx"
      }
    },
    {
      "cell_type": "markdown",
      "source": [
        "<img src=\"https://raw.githubusercontent.com/farrelrassya/teachingMLDL/main/01.%20Machine%20Learning/02.%20Week%202/Picture/Linear_Correlation.png\" width=\"600\" height=\"600\">\n"
      ],
      "metadata": {
        "id": "xtdkVyeBRgZd"
      }
    },
    {
      "cell_type": "code",
      "source": [
        "df.hist(bins=20, figsize=(9, 9))\n",
        "plt.tight_layout()\n",
        "plt.show()"
      ],
      "metadata": {
        "id": "GZlkxDm-QAAM"
      },
      "execution_count": null,
      "outputs": []
    },
    {
      "cell_type": "code",
      "source": [
        "import seaborn as sns\n",
        "import matplotlib.pyplot as plt\n",
        "\n",
        "print(\"Skewness tiap fitur:\")\n",
        "print(df.skew())\n",
        "\n",
        "# Buat figure dengan grid 4x4\n",
        "fig, axes = plt.subplots(4, 4, figsize=(20, 20))\n",
        "axes = axes.flatten()\n",
        "\n",
        "# Plot tiap fitur di subplot yang udah disediakan\n",
        "for ax, col in zip(axes, df.columns):\n",
        "    sns.histplot(df[col], kde=True, bins=20, ax=ax)\n",
        "    ax.set_title(f'Distribusi {col}\\nSkewness: {df[col].skew():.2f}')\n",
        "    ax.set_xlabel(col)\n",
        "    ax.set_ylabel('Frequency')\n",
        "\n",
        "# Matikan subplot yang kosong kalo fitur kurang dari 16\n",
        "if len(df.columns) < len(axes):\n",
        "    for ax in axes[len(df.columns):]:\n",
        "        ax.axis('off')\n",
        "\n",
        "plt.tight_layout()\n",
        "plt.show()"
      ],
      "metadata": {
        "id": "ADL1o2KGW9F5"
      },
      "execution_count": null,
      "outputs": []
    },
    {
      "cell_type": "code",
      "source": [
        "import numpy as np\n",
        "\n",
        "# Contoh transformasi log untuk fitur dengan positive skew\n",
        "df['crim_log'] = np.log1p(df['crim'])\n",
        "df['zn_log']   = np.log1p(df['zn'])\n",
        "df['chas_log'] = np.log1p(df['chas'])  # meskipun chas itu dummy, tapi nilainya skewed karena ketidakseimbangan\n",
        "\n",
        "# Untuk fitur dengan negative skew, lo bisa coba transformasi Yeo-Johnson\n",
        "from scipy import stats\n",
        "df['b_yj'], _ = stats.yeojohnson(df['b'])\n",
        "\n",
        "# Liat lagi skewnessnya setelah transformasi\n",
        "print(\"Skewness setelah transformasi:\")\n",
        "print(df[['crim_log', 'zn_log', 'chas_log', 'b_yj']].skew())"
      ],
      "metadata": {
        "id": "PGvHAG2TXMRY"
      },
      "execution_count": null,
      "outputs": []
    },
    {
      "cell_type": "markdown",
      "source": [
        "$$\n",
        "y^{(\\lambda)} =\n",
        "\\begin{cases}\n",
        "\\displaystyle \\frac{(y+1)^\\lambda - 1}{\\lambda}, & \\text{if } y \\ge 0 \\text{ and } \\lambda \\neq 0, \\\\[10pt]\n",
        "\\log(y+1), & \\text{if } y \\ge 0 \\text{ and } \\lambda = 0, \\\\[10pt]\n",
        "-\\displaystyle \\frac{(-y+1)^{2-\\lambda} - 1}{2-\\lambda}, & \\text{if } y < 0 \\text{ and } \\lambda \\neq 2, \\\\[10pt]\n",
        "-\\log(-y+1), & \\text{if } y < 0 \\text{ and } \\lambda = 2.\n",
        "\\end{cases}\n",
        "$$\n"
      ],
      "metadata": {
        "id": "rf37kAaaYl5R"
      }
    },
    {
      "cell_type": "code",
      "source": [
        "fig, axes = plt.subplots(4, 4, figsize=(16, 8))  # 4x4 grid, total 16 subplot\n",
        "axes = axes.flatten()\n",
        "\n",
        "# Looping buat plot tiap fitur\n",
        "for i, feature in enumerate(transformed_features):\n",
        "    sns.histplot(df[feature], kde=True, bins=20, ax=axes[i])\n",
        "    axes[i].set_title(f'Distribusi {feature} setelah transformasi')\n",
        "    axes[i].set_xlabel(feature)\n",
        "    axes[i].set_ylabel('Frekuensi')\n",
        "\n",
        "# Hapus axes yang gak kepake (biar gak nampilin plot kosong)\n",
        "for j in range(i + 1, 16):\n",
        "    fig.delaxes(axes[j])\n",
        "\n",
        "plt.tight_layout()\n",
        "plt.show()"
      ],
      "metadata": {
        "id": "gmYMUQRkXtHa"
      },
      "execution_count": null,
      "outputs": []
    },
    {
      "cell_type": "code",
      "source": [
        "from sklearn.model_selection import train_test_split\n",
        "from sklearn.linear_model import LinearRegression\n",
        "from sklearn.metrics import mean_squared_error\n",
        "\n",
        "# Copy dataset dan replace fitur asli dengan transformasi yang udah dibuat\n",
        "df_model = df.copy()\n",
        "df_model['crim'] = df_model['crim_log']\n",
        "df_model['zn']   = df_model['zn_log']\n",
        "df_model['chas'] = df_model['chas_log']\n",
        "df_model['b']    = df_model['b_yj']\n",
        "\n",
        "# Misal targetnya tetap 'medv'\n",
        "X = df_model.drop(['medv', 'crim_log', 'zn_log', 'chas_log', 'b_yj'], axis=1)\n",
        "y = df_model['medv']\n",
        "\n",
        "# Split data: 80% training, 20% testing\n",
        "X_train, X_test, y_train, y_test = train_test_split(X, y, test_size=0.2, random_state=42)\n",
        "\n",
        "# Training model Linear Regression\n",
        "model = LinearRegression()\n",
        "model.fit(X_train, y_train)\n",
        "\n",
        "# Prediksi dan evaluasi\n",
        "y_pred = model.predict(X_test)\n",
        "mse = mean_squared_error(y_test, y_pred)\n",
        "print(\"Mean Squared Error:\", mse)"
      ],
      "metadata": {
        "id": "RR5RxZXmZH-w"
      },
      "execution_count": null,
      "outputs": []
    },
    {
      "cell_type": "code",
      "source": [
        "import matplotlib.pyplot as plt\n",
        "import seaborn as sns\n",
        "\n",
        "# Visualisasi Actual vs Predicted\n",
        "plt.figure(figsize=(8, 6))\n",
        "sns.scatterplot(x=y_test, y=y_pred)\n",
        "plt.xlabel(\"Nilai Aktual MEDV\")\n",
        "plt.ylabel(\"Nilai Prediksi MEDV\")\n",
        "plt.title(\"Actual vs Predicted MEDV\")\n",
        "plt.plot([y_test.min(), y_test.max()], [y_test.min(), y_test.max()], 'r--')  # line perfect prediction\n",
        "plt.show()\n",
        "\n",
        "# Visualisasi distribusi residual\n",
        "residuals = y_test - y_pred\n",
        "plt.figure(figsize=(8, 6))\n",
        "sns.histplot(residuals, kde=True, bins=20)\n",
        "plt.xlabel(\"Residual\")\n",
        "plt.title(\"Distribusi Residual\")\n",
        "plt.show()"
      ],
      "metadata": {
        "id": "zv6Q9MN2ZuH3"
      },
      "execution_count": null,
      "outputs": []
    },
    {
      "cell_type": "markdown",
      "source": [
        "# Question!\n",
        "\n",
        "1. Pada model di atas menggunakan transformasi data Yeo-Johnson. Eksplorasi transformasi data lainnya seperti Log Transform, Box-Cox Transform, atau Quantile Transform. Lakukan pembuatan model dengan masing-masing transformasi dan bandingkan hasilnya!\n",
        "\n",
        "2. Lakukan eksplorasi terhadap metode normalisasi dan standardisasi data. Bandingkan metode MinMax Scaling, Standard Scaling, dan Robust Scaling dalam konteks data yang mengandung outlier. Bagaimana dampaknya terhadap akurasi model!\n",
        "\n",
        "3. Pada model sebelumnya, fitur numerik langsung digunakan tanpa encoding. Eksplorasi apakah melakukan discretization pada fitur numerik dapat meningkatkan performa model, dibandingkan dengan tetap menggunakan fitur dalam bentuk kontinu."
      ],
      "metadata": {
        "id": "MfxxIy9rTbww"
      }
    },
    {
      "cell_type": "markdown",
      "source": [
        "\n",
        "# Penjelasan Pertanyaan diatas dengan lebih mendetail\n",
        "\n",
        "---\n",
        "\n",
        "## 1. Transformasi Data\n",
        "\n",
        "**Deskripsi:**  \n",
        "Pada model di atas digunakan transformasi data Yeo-Johnson.\n",
        "\n",
        "**Tugas:**  \n",
        "Eksplorasi transformasi data alternatif seperti **Log Transform**, **Box-Cox Transform**, dan **Quantile Transform**.\n",
        "\n",
        "**Langkah Kerja:**  \n",
        "- Lakukan pembuatan model dengan masing-masing metode transformasi.  \n",
        "- Bandingkan hasil performa model yang dihasilkan dari tiap metode.\n",
        "\n",
        "---\n",
        "\n",
        "## 2. Normalisasi dan Standardisasi Data\n",
        "\n",
        "**Deskripsi:**  \n",
        "Metode normalisasi dan standardisasi perlu dieksplorasi, terutama pada data yang mengandung outlier.\n",
        "\n",
        "**Tugas:**  \n",
        "Bandingkan metode **MinMax Scaling**, **Standard Scaling**, dan **Robust Scaling**.\n",
        "\n",
        "**Langkah Kerja:**  \n",
        "- Terapkan masing-masing metode pada dataset yang mengandung outlier.  \n",
        "- Analisis dan evaluasi dampak dari masing-masing metode terhadap akurasi model.\n",
        "\n",
        "---\n",
        "\n",
        "## 3. Discretization pada Fitur Numerik\n",
        "\n",
        "**Deskripsi:**  \n",
        "Pada model sebelumnya, fitur numerik digunakan dalam bentuk kontinu tanpa encoding.\n",
        "\n",
        "**Tugas:**  \n",
        "Eksplorasi apakah melakukan **discretization** pada fitur numerik dapat meningkatkan performa model.\n",
        "\n",
        "**Langkah Kerja:**  \n",
        "- Ubah fitur numerik menjadi bentuk kategori melalui teknik discretization.  \n",
        "- Lakukan pelatihan model dengan fitur yang telah didiscretisasi.  \n",
        "- Bandingkan performa model dengan model yang menggunakan fitur kontinu.\n",
        "\n",
        "---"
      ],
      "metadata": {
        "id": "GWDtEzaGV0Ak"
      }
    },
    {
      "cell_type": "markdown",
      "source": [
        "# Jawaban\n",
        "\n"
      ],
      "metadata": {
        "id": "Ixym8vhHr88f"
      }
    },
    {
      "cell_type": "markdown",
      "source": [
        "## Soal 1"
      ],
      "metadata": {
        "id": "Jh_sls3QwDyB"
      }
    },
    {
      "cell_type": "markdown",
      "source": [
        "Implementasi kode berikut bertujuan untuk mengevaluasi performa berbagai teknik transformasi data dengan metrik MSE:\n"
      ],
      "metadata": {
        "id": "VZN4SYKEvQj3"
      }
    },
    {
      "cell_type": "code",
      "source": [
        "import pandas as pd\n",
        "import numpy as np\n",
        "import matplotlib.pyplot as plt\n",
        "from sklearn.preprocessing import PowerTransformer, QuantileTransformer\n",
        "from sklearn.model_selection import train_test_split\n",
        "from sklearn.linear_model import LinearRegression\n",
        "from sklearn.metrics import mean_squared_error\n",
        "\n",
        "# Load dataset dari sumber eksternal\n",
        "url = \"https://raw.githubusercontent.com/selva86/datasets/master/BostonHousing.csv\"\n",
        "df = pd.read_csv(url)\n",
        "\n",
        "# Memisahkan fitur dan target\n",
        "X = df.drop(columns=['medv'])  # 'medv' adalah target (harga rumah)\n",
        "y = df['medv']\n",
        "\n",
        "# Menyimpan hasil MSE untuk perbandingan\n",
        "results = {}\n",
        "\n",
        "# Konsistensi Train-Test Split\n",
        "X_train, X_test, y_train, y_test = train_test_split(X, y, test_size=0.2, random_state=42)\n",
        "\n",
        "# 1. Log Transform (log(x + 1) untuk menghindari log(0))\n",
        "X_log = np.log1p(X_train)\n",
        "X_test_log = np.log1p(X_test)\n",
        "model = LinearRegression()\n",
        "model.fit(X_log, y_train)\n",
        "y_pred = model.predict(X_test_log)\n",
        "results['Log Transform'] = mean_squared_error(y_test, y_pred)\n",
        "\n",
        "# 2. Box-Cox Transform (Hanya untuk data positif, jadi kita tambahkan +1 ke semua nilai)\n",
        "boxcox_transformer = PowerTransformer(method='box-cox', standardize=False)\n",
        "X_boxcox = boxcox_transformer.fit_transform(X_train + 1)\n",
        "X_test_boxcox = boxcox_transformer.transform(X_test + 1)\n",
        "model.fit(X_boxcox, y_train)\n",
        "y_pred = model.predict(X_test_boxcox)\n",
        "results['Box-Cox Transform'] = mean_squared_error(y_test, y_pred)\n",
        "\n",
        "# 3. Quantile Transform (Distribusi normal)\n",
        "quantile_transformer = QuantileTransformer(output_distribution='normal', random_state=42)\n",
        "X_quantile = quantile_transformer.fit_transform(X_train)\n",
        "X_test_quantile = quantile_transformer.transform(X_test)\n",
        "model.fit(X_quantile, y_train)\n",
        "y_pred = model.predict(X_test_quantile)\n",
        "results['Quantile Transform'] = mean_squared_error(y_test, y_pred)\n",
        "\n",
        "# 4. Yeo-Johnson Transform (Bisa digunakan untuk data negatif dan nol)\n",
        "yeo_transformer = PowerTransformer(method='yeo-johnson', standardize=False)\n",
        "X_yeo = yeo_transformer.fit_transform(X_train)\n",
        "X_test_yeo = yeo_transformer.transform(X_test)\n",
        "model.fit(X_yeo, y_train)\n",
        "y_pred = model.predict(X_test_yeo)\n",
        "results['Yeo-Johnson Transform'] = mean_squared_error(y_test, y_pred)\n",
        "\n",
        "# Visualisasi MSE\n",
        "plt.figure(figsize=(8,5))\n",
        "plt.bar(results.keys(), results.values(), color=['blue', 'green', 'red', 'purple'])\n",
        "plt.ylabel('Mean Squared Error')\n",
        "plt.title('Comparison of Data Transformations')\n",
        "plt.xticks(rotation=45)\n",
        "plt.show()\n",
        "\n",
        "# Menampilkan hasil perbandingan\n",
        "print(\"MSE Comparison:\", results)\n",
        "\n"
      ],
      "metadata": {
        "colab": {
          "base_uri": "https://localhost:8080/",
          "height": 594
        },
        "id": "uWXPE60enIl3",
        "outputId": "a48502b2-3295-43c7-e577-01dc97ba0679"
      },
      "execution_count": 12,
      "outputs": [
        {
          "output_type": "stream",
          "name": "stderr",
          "text": [
            "/usr/local/lib/python3.11/dist-packages/sklearn/preprocessing/_data.py:2829: UserWarning: n_quantiles (1000) is greater than the total number of samples (404). n_quantiles is set to n_samples.\n",
            "  warnings.warn(\n"
          ]
        },
        {
          "output_type": "display_data",
          "data": {
            "text/plain": [
              "<Figure size 800x500 with 1 Axes>"
            ],
            "image/png": "[encoded data removed]"
          },
          "metadata": {}
        },
        {
          "output_type": "stream",
          "name": "stdout",
          "text": [
            "MSE Comparison: {'Log Transform': 18.466623716585616, 'Box-Cox Transform': 19.690750520558623, 'Quantile Transform': 19.202839569582025, 'Yeo-Johnson Transform': 19.69075063942791}\n"
          ]
        }
      ]
    },
    {
      "cell_type": "markdown",
      "source": [
        "Berikut adalah analisis mendalam mengenai hasil perbandingan transformasi data berdasarkan Mean Squared Error (MSE):"
      ],
      "metadata": {
        "id": "qCN0CsM9sdOP"
      }
    },
    {
      "cell_type": "markdown",
      "source": [
        "---\n",
        "### **1. Apa itu Mean Squared Error (MSE)**\n",
        "\n",
        "Mean Squared Error (MSE) adalah metrik evaluasi yang mengukur rata-rata kesalahan kuadrat antara nilai aktual dan nilai prediksi. Rumusnya adalah:\n",
        "\n",
        "\n",
        "\n",
        "Di mana:\n",
        "* adalah nilai aktual,\n",
        "* adalah nilai prediksi,\n",
        "* adalah jumlah sampel.\n",
        "\n",
        "Semakin kecil nilai MSE, semakin baik performa model karena kesalahan prediksinya lebih kecil.\n",
        "\n",
        "---\n",
        "\n",
        "### **2. Mengapa MSE Digunakan untuk Perbandingan?**\n",
        "MSE dipilih karena:\n",
        "\n",
        "* **Mengukur akurasi model**: Memberikan gambaran seberapa jauh prediksi dari nilai sebenarnya.\n",
        "* **Sensitif terhadap outlier**: MSE menghukum kesalahan besar lebih signifikan karena adanya kuadrat dari selisih.\n",
        "* **Standar dalam regresi**: Umumnya digunakan dalam model regresi untuk mengevaluasi kesalahan model.\n",
        "\n",
        "Dalam perbandingan ini, transformasi data bertujuan untuk membuat distribusi fitur lebih normal sehingga hubungan linier antara fitur dan target semakin kuat. Metrik MSE membantu melihat mana transformasi yang memberikan prediksi terbaik.\n",
        "\n",
        "---\n",
        "\n",
        "### **3. Analisis Hasil Perbandingan Transfromasi**\n",
        "Misalkan hasil MSE adalah:\n",
        "\n",
        "$MSE Comparison={’Log Transform’:18.47,’Box-Cox Transform’:19.69,’Quantile Transform’:19.20,’Yeo-Johnson Transform’:19.69}$\n",
        "\n",
        "Dari hasil ini:\n",
        "\n",
        "* **Log Transform (MSE = 18.47)** memiliki nilai MSE paling rendah, sehingga bisa dikatakan performa model terbaik dengan transformasi ini.\n",
        "* **Quantile Transform (MSE = 19.20)** memiliki performa lebih buruk dari Log Transform tetapi masih lebih baik dibandingkan metode lain.\n",
        "* **Box-Cox (MSE = 19.69)** dan Yeo-Johnson (MSE = 19.69) memiliki performa yang sama dan lebih buruk dibandingkan Log Transform.\n",
        "\n",
        "Mengapa Log Transform lebih baik?\n",
        "\n",
        "* Log Transform sering digunakan untuk mengurangi skewness dan membuat distribusi lebih normal.\n",
        "* Dataset Boston Housing memiliki fitur seperti harga rumah dan pajak yang memiliki distribusi skewed, sehingga logaritma membantu merapikan hubungan liniernya dengan target.\n",
        "---\n",
        "### **4. Visualisasi dan Interpretasi**\n",
        "Grafik bar chart dari MSE menunjukkan perbandingan performa antar transformasi:\n",
        "\n",
        "* Transformasi dengan MSE paling rendah (Log Transform) bisa dijadikan pilihan utama.\n",
        "* Transformasi dengan MSE lebih tinggi mungkin kurang cocok karena masih ada variabilitas yang tidak teratasi.\n",
        "\n",
        "Catatan Penting:\n",
        "* Jika dataset memiliki banyak outlier, Quantile Transform bisa menjadi opsi karena mengubah distribusi menjadi lebih normal dengan cara mempertahankan urutan data.\n",
        "---\n",
        "### **5. Kesimpulan dan Perbaikan**\n",
        "Dari analisis ini, kita bisa menyimpulkan:\n",
        "\n",
        "* Gunakan Log Transform jika dataset memiliki distribusi miring (skewed).\n",
        "* Gunakan Quantile Transform jika dataset memiliki banyak outlier.\n",
        "* Gunakan Box-Cox hanya untuk fitur dengan nilai positif.\n",
        "* Gunakan Yeo-Johnson jika dataset mengandung nilai nol atau negatif.\n",
        "\n",
        "Untuk memastikan hasil yang lebih akurat, bisa dilakukan cross-validation agar tidak hanya bergantung pada satu pembagian train-test split.\n",
        "\n",
        "---\n",
        "\n",
        "\n"
      ],
      "metadata": {
        "id": "1WRhaHeNsuOc"
      }
    },
    {
      "cell_type": "markdown",
      "source": [
        "## Soal 2"
      ],
      "metadata": {
        "id": "w2RsuBQlvxQk"
      }
    },
    {
      "cell_type": "markdown",
      "source": [
        "Untuk menguji dampak dari normalisasi dan standardisasi terhadap performa model, kami menerapkan ketiga metode scaling pada dataset yang mengandung outlier. Berikut adalah implementasi kode untuk membandingkan **MinMax Scaling, Standard Scaling, dan Robust Scaling** dengan menggunakan Mean Squared Error (MSE) sebagai metrik evaluasi.\n"
      ],
      "metadata": {
        "id": "xEFOLxHmv79R"
      }
    },
    {
      "cell_type": "code",
      "source": [
        "import pandas as pd\n",
        "import numpy as np\n",
        "import matplotlib.pyplot as plt\n",
        "from sklearn.preprocessing import MinMaxScaler, StandardScaler, RobustScaler\n",
        "from sklearn.model_selection import train_test_split\n",
        "from sklearn.linear_model import LinearRegression\n",
        "from sklearn.metrics import mean_squared_error\n",
        "\n",
        "# Load dataset dari sumber eksternal\n",
        "url = \"https://raw.githubusercontent.com/selva86/datasets/master/BostonHousing.csv\"\n",
        "df = pd.read_csv(url)\n",
        "\n",
        "# Memisahkan fitur dan target\n",
        "X = df.drop(columns=['medv'])  # 'medv' adalah target (harga rumah)\n",
        "y = df['medv']\n",
        "\n",
        "# Menyimpan hasil MSE untuk perbandingan\n",
        "results = {}\n",
        "\n",
        "# Konsistensi Train-Test Split\n",
        "X_train, X_test, y_train, y_test = train_test_split(X, y, test_size=0.2, random_state=42)\n",
        "\n",
        "# 1. MinMax Scaling\n",
        "minmax_scaler = MinMaxScaler()\n",
        "X_train_minmax = minmax_scaler.fit_transform(X_train)\n",
        "X_test_minmax = minmax_scaler.transform(X_test)\n",
        "model = LinearRegression()\n",
        "model.fit(X_train_minmax, y_train)\n",
        "y_pred = model.predict(X_test_minmax)\n",
        "results['MinMax Scaling'] = mean_squared_error(y_test, y_pred)\n",
        "\n",
        "# 2. Standard Scaling\n",
        "standard_scaler = StandardScaler()\n",
        "X_train_standard = standard_scaler.fit_transform(X_train)\n",
        "X_test_standard = standard_scaler.transform(X_test)\n",
        "model.fit(X_train_standard, y_train)\n",
        "y_pred = model.predict(X_test_standard)\n",
        "results['Standard Scaling'] = mean_squared_error(y_test, y_pred)\n",
        "\n",
        "# 3. Robust Scaling\n",
        "robust_scaler = RobustScaler()\n",
        "X_train_robust = robust_scaler.fit_transform(X_train)\n",
        "X_test_robust = robust_scaler.transform(X_test)\n",
        "model.fit(X_train_robust, y_train)\n",
        "y_pred = model.predict(X_test_robust)\n",
        "results['Robust Scaling'] = mean_squared_error(y_test, y_pred)\n",
        "\n",
        "# Visualisasi MSE\n",
        "plt.figure(figsize=(8,5))\n",
        "plt.bar(results.keys(), results.values(), color=['blue', 'green', 'red'])\n",
        "plt.ylabel('Mean Squared Error')\n",
        "plt.title('Comparison of Scaling Methods')\n",
        "plt.xticks(rotation=45)\n",
        "plt.show()\n",
        "\n",
        "# Menampilkan hasil perbandingan\n",
        "print(\"MSE Comparison:\", results)\n"
      ],
      "metadata": {
        "colab": {
          "base_uri": "https://localhost:8080/",
          "height": 544
        },
        "id": "BMo0SuH41zzO",
        "outputId": "a489a345-e177-4d5c-d4cd-6f594433685b"
      },
      "execution_count": 13,
      "outputs": [
        {
          "output_type": "display_data",
          "data": {
            "text/plain": [
              "<Figure size 800x500 with 1 Axes>"
            ],
            "image/png": "[encoded data removed]"
          },
          "metadata": {}
        },
        {
          "output_type": "stream",
          "name": "stdout",
          "text": [
            "MSE Comparison: {'MinMax Scaling': 24.291119474973502, 'Standard Scaling': 24.291119474973513, 'Robust Scaling': 24.291119474973517}\n"
          ]
        }
      ]
    },
    {
      "cell_type": "markdown",
      "source": [
        "Analisis Normalisasi dan Standardisasi Data"
      ],
      "metadata": {
        "id": "aTRI7Uhf7hSA"
      }
    },
    {
      "cell_type": "markdown",
      "source": [
        "\n",
        "---\n",
        "### **1. Pendahuluan**\n",
        "\n",
        "  Normalisasi dan standardisasi adalah teknik penting dalam pra-pemrosesan data untuk model pembelajaran mesin, terutama dalam regresi linear. Tujuan dari eksplorasi ini adalah untuk membandingkan **MinMax Scaling, Standard Scaling, dan Robust Scaling** serta melihat dampaknya terhadap akurasi model.\n",
        "\n",
        "---\n",
        "\n",
        "### **2. Metode yang Digunakan**\n",
        "\n",
        "1. **MinMax Scaling**  \n",
        "   - Mengubah nilai fitur ke dalam rentang [0,1].  \n",
        "   - Sensitif terhadap outlier karena skala dipengaruhi oleh nilai minimum dan maksimum.  \n",
        "\n",
        "2. **Standard Scaling**  \n",
        "   - Mengubah distribusi fitur agar memiliki mean = 0 dan standar deviasi = 1.  \n",
        "   - Tidak mengatasi outlier secara langsung, tetapi membantu jika data berdistribusi normal.  \n",
        "\n",
        "3. **Robust Scaling**  \n",
        "   - Menggunakan median dan interquartile range (IQR) untuk transformasi.  \n",
        "   - Lebih tahan terhadap outlier karena tidak bergantung pada nilai ekstrem.  \n",
        "---\n",
        "\n",
        "### **3. Hasil Perbandingan MSE**\n",
        "\n",
        "Setelah menerapkan ketiga metode pada dataset, diperoleh hasil **Mean Squared Error (MSE)** sebagai berikut:\n",
        "\n",
        "MSE Comparison:\n",
        "\n",
        "`MinMax Scaling: 24.291119474973502, Standard Scaling: 24.291119474973513, Robust Scaling: 24.291119474973517`\n",
        "\n",
        "---\n",
        "\n",
        "### **4. Analisis Hasil**\n",
        "\n",
        "1. **Jika MinMax Scaling menghasilkan MSE terkecil**  \n",
        "   - Menunjukkan bahwa data mungkin tidak memiliki outlier yang signifikan.  \n",
        "   - Model dapat bekerja optimal dengan data yang terdistribusi dalam skala yang sama.  \n",
        "\n",
        "2. **Jika Standard Scaling lebih baik**  \n",
        "   - Kemungkinan besar data berdistribusi normal, sehingga normalisasi dengan mean dan standar deviasi lebih efektif.  \n",
        "\n",
        "3. **Jika Robust Scaling lebih baik**  \n",
        "   - Data mungkin mengandung outlier yang cukup berpengaruh.  \n",
        "   - Metode ini membantu menjaga kestabilan model dibandingkan dengan MinMax dan Standard Scaling.  \n",
        "---\n",
        "### **5. Kesimpulan**\n",
        "\n",
        "- **MinMax Scaling** cocok untuk data tanpa outlier yang signifikan.  \n",
        "- **Standard Scaling** efektif jika data berdistribusi normal.  \n",
        "- **Robust Scaling** sangat berguna dalam dataset dengan outlier yang kuat.  \n",
        "- Memilih metode scaling yang tepat dapat meningkatkan akurasi model regresi.  \n",
        "---\n"
      ],
      "metadata": {
        "id": "TlpzrpoD534Y"
      }
    },
    {
      "cell_type": "markdown",
      "source": [
        "## Soal 3"
      ],
      "metadata": {
        "id": "yioUEccy77mI"
      }
    },
    {
      "cell_type": "markdown",
      "source": [
        "Pada model sebelumnya, fitur numerik digunakan dalam bentuk kontinu tanpa melalui proses encoding. Dalam bagian ini, kita akan mengeksplorasi apakah melakukan discretization pada fitur numerik dapat meningkatkan performa model dibandingkan dengan menggunakan fitur dalam bentuk aslinya.\n",
        "\n",
        "Discretization adalah teknik untuk membagi fitur numerik ke dalam beberapa kategori atau interval diskrit. Ini dapat membantu model menangkap pola non-linear dan mengurangi sensitivitas terhadap outlier. Kita akan membandingkan hasil model sebelum dan sesudah discretization menggunakan Mean Squared Error (MSE) sebagai metrik evaluasi.\n",
        "\n",
        "Berikut adalah implementasi kode untuk eksperimen ini:\n"
      ],
      "metadata": {
        "id": "9pTvuxw59ECt"
      }
    },
    {
      "cell_type": "code",
      "source": [
        "import pandas as pd\n",
        "import numpy as np\n",
        "import matplotlib.pyplot as plt\n",
        "from sklearn.preprocessing import KBinsDiscretizer\n",
        "from sklearn.model_selection import train_test_split\n",
        "from sklearn.linear_model import LinearRegression\n",
        "from sklearn.metrics import mean_squared_error\n",
        "\n",
        "# Load dataset dari sumber eksternal\n",
        "url = \"https://raw.githubusercontent.com/selva86/datasets/master/BostonHousing.csv\"\n",
        "df = pd.read_csv(url)\n",
        "\n",
        "# Memisahkan fitur dan target\n",
        "X = df.drop(columns=['medv'])  # 'medv' adalah target (harga rumah)\n",
        "y = df['medv']\n",
        "\n",
        "# Konsistensi Train-Test Split\n",
        "X_train, X_test, y_train, y_test = train_test_split(X, y, test_size=0.2, random_state=42)\n",
        "\n",
        "# Discretization menggunakan KBinsDiscretizer\n",
        "kbins = KBinsDiscretizer(n_bins=5, encode='ordinal', strategy='uniform')\n",
        "X_train_binned = kbins.fit_transform(X_train)\n",
        "X_test_binned = kbins.transform(X_test)\n",
        "\n",
        "# Model Linear Regression dengan fitur yang telah didiscretize\n",
        "model = LinearRegression()\n",
        "model.fit(X_train_binned, y_train)\n",
        "y_pred_binned = model.predict(X_test_binned)\n",
        "mse_binned = mean_squared_error(y_test, y_pred_binned)\n",
        "\n",
        "# Model Linear Regression tanpa discretization (baseline)\n",
        "model.fit(X_train, y_train)\n",
        "y_pred_continuous = model.predict(X_test)\n",
        "mse_continuous = mean_squared_error(y_test, y_pred_continuous)\n",
        "\n",
        "# Menampilkan hasil perbandingan\n",
        "print(\"MSE dengan Discretization:\", mse_binned)\n",
        "print(\"MSE tanpa Discretization:\", mse_continuous)\n",
        "\n",
        "# Visualisasi Perbandingan\n",
        "labels = ['Continuous Features', 'Discretized Features']\n",
        "mse_values = [mse_continuous, mse_binned]\n",
        "plt.figure(figsize=(6,4))\n",
        "plt.bar(labels, mse_values, color=['blue', 'orange'])\n",
        "plt.ylabel('Mean Squared Error')\n",
        "plt.title('Comparison of Feature Encoding Methods')\n",
        "plt.show()\n"
      ],
      "metadata": {
        "colab": {
          "base_uri": "https://localhost:8080/",
          "height": 426
        },
        "id": "hSMI61Nx84Rm",
        "outputId": "56d73633-d33b-43f3-aa41-62cd89fc2fca"
      },
      "execution_count": 14,
      "outputs": [
        {
          "output_type": "stream",
          "name": "stdout",
          "text": [
            "MSE dengan Discretization: 27.29997487712126\n",
            "MSE tanpa Discretization: 24.291119474973478\n"
          ]
        },
        {
          "output_type": "display_data",
          "data": {
            "text/plain": [
              "<Figure size 600x400 with 1 Axes>"
            ],
            "image/png": "[encoded data removed]"
          },
          "metadata": {}
        }
      ]
    },
    {
      "cell_type": "markdown",
      "source": [
        "Analisis Pengaruh Discretization terhadap Performa Model"
      ],
      "metadata": {
        "id": "ve4vV3ci-oPl"
      }
    },
    {
      "cell_type": "markdown",
      "source": [
        "---\n",
        "### **1. Perbandingan MSE antara Data Kontinu dan Data Diskret**\n",
        "Berdasarkan hasil evaluasi model, kita dapat melihat perbedaan performa antara penggunaan fitur numerik dalam bentuk kontinu dan setelah diterapkan discretization. Jika MSE mengalami penurunan setelah discretization, berarti teknik ini membantu model dalam memahami pola data dengan lebih baik.\n",
        "\n",
        "---\n",
        "### **2. Keunggulan dan Kelemahan Discretization**\n",
        "**Keunggulan:**  \n",
        "- Membantu menangkap hubungan non-linear yang sulit ditangkap oleh model linier.  \n",
        "- Mengurangi dampak outlier dengan mengelompokkan nilai-nilai ekstrem ke dalam kategori tertentu.  \n",
        "- Dapat meningkatkan interpretabilitas model, terutama dalam analisis berbasis aturan.  \n",
        "\n",
        "**Kelemahan:**  \n",
        "- Potensi kehilangan informasi jika interval diskret tidak dipilih dengan baik.  \n",
        "- Bisa mengurangi variasi dalam data, yang dapat menyebabkan hilangnya detail penting.  \n",
        "- Model menjadi lebih bergantung pada pemilihan metode discretization yang optimal.  \n",
        "\n",
        "---\n",
        "### **3. Kesimpulan**\n",
        "Jika discretization menunjukkan perbaikan MSE dibandingkan dengan penggunaan fitur kontinu, maka pendekatan ini layak untuk diterapkan dalam model prediksi harga rumah. Namun, jika performanya justru menurun, maka penggunaan fitur dalam bentuk kontinu lebih direkomendasikan. Pemilihan metode discretization yang tepat juga menjadi faktor penting dalam menentukan efektivitas teknik ini.\n",
        "\n",
        "---"
      ],
      "metadata": {
        "id": "Ed2bCu459Hsa"
      }
    },
    {
      "cell_type": "markdown",
      "source": [],
      "metadata": {
        "id": "TJDAgs8H-oK5"
      }
    },
    {
      "cell_type": "markdown",
      "source": [],
      "metadata": {
        "id": "gHgco1Ha-nyA"
      }
    }
  ]
}