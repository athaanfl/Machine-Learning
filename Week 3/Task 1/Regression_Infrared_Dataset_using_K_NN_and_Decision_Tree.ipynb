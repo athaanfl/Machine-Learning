{
  "nbformat": 4,
  "nbformat_minor": 0,
  "metadata": {
    "colab": {
      "provenance": []
    },
    "kernelspec": {
      "name": "python3",
      "display_name": "Python 3"
    },
    "language_info": {
      "name": "python"
    }
  },
  "cells": [
    {
      "cell_type": "markdown",
      "source": [],
      "metadata": {
        "id": "lYrs7v5N5mJ2"
      }
    },
    {
      "cell_type": "markdown",
      "source": [
        "# Regression Infrared Dataset using K-NN and Decision Tree"
      ],
      "metadata": {
        "id": "XilzzZ3F49ho"
      }
    },
    {
      "cell_type": "markdown",
      "source": [
        "## 1. Pendahuluan\n",
        "\n",
        "Laporan ini menjelaskan proses pembangunan model machine learning menggunakan dua algoritma:\n",
        "- **K-Nearest Neighbors (K-NN) Regressor**\n",
        "- **Decision Tree Regressor**\n",
        "\n",
        "Target variabel yang digunakan adalah `aveOralM`. Dataset awal memiliki 1020 entri dan 34 kolom, dengan terdapat missing value pada kolom `Distance`. Pada bagian **Data Cleaning**, baris-baris dengan missing value pada kolom `Distance` telah dihapus sehingga data bersih memiliki 1018 baris.\n",
        "\n",
        "\n",
        "\n",
        "\n"
      ],
      "metadata": {
        "id": "3AK4K1Fe21AI"
      }
    },
    {
      "cell_type": "markdown",
      "source": [
        "## 2. Pembersihan Data\n",
        "\n",
        "Pada tahap ini, kita menghapus baris yang memiliki missing value pada kolom `Distance`. Berikut adalah cuplikan kode yang digunakan:"
      ],
      "metadata": {
        "id": "JYsV1Q3c4qsz"
      }
    },
    {
      "cell_type": "code",
      "source": [
        "import pandas as pd\n",
        "\n",
        "# Load dataset (pastikan file CSV telah diupload ke Colab)\n",
        "df = pd.read_csv(\"Infrared.csv\")\n",
        "\n",
        "# Menghapus baris yang memiliki missing value pada kolom 'Distance'\n",
        "df_cleaned = df.dropna(subset=['Distance'])\n",
        "print(\"Shape data setelah dibersihkan:\", df_cleaned.shape)"
      ],
      "metadata": {
        "colab": {
          "base_uri": "https://localhost:8080/"
        },
        "id": "ngx3nKk84cJA",
        "outputId": "2bedc8c3-fdd5-407a-e647-26fedf63d0c4"
      },
      "execution_count": 8,
      "outputs": [
        {
          "output_type": "stream",
          "name": "stdout",
          "text": [
            "Shape data setelah dibersihkan: (1018, 34)\n"
          ]
        }
      ]
    },
    {
      "cell_type": "markdown",
      "source": [
        "Output menunjukkan bahwa data berubah menjadi 1018 baris dengan 34 kolom dan tidak terdapat missing value pada kolom Distance."
      ],
      "metadata": {
        "id": "la7YlV374wsN"
      }
    },
    {
      "cell_type": "markdown",
      "source": [
        "## 3. Pembangunan Model\n",
        "\n",
        "#### 3.1 Persiapan Data\n",
        "\n",
        "Sebelum membangun model, kita pisahkan data menjadi fitur (X) dan target (y). Selain itu, kolom kategorikal seperti Gender, Age, dan Ethnicity diubah menjadi variabel dummy agar dapat digunakan oleh algoritma machine learning.\n"
      ],
      "metadata": {
        "id": "kDoPFrwn46Fa"
      }
    },
    {
      "cell_type": "code",
      "source": [
        "from sklearn.model_selection import train_test_split\n",
        "\n",
        "# Target variabel\n",
        "target = 'aveOralM'\n",
        "X = df_cleaned.drop(columns=[target])\n",
        "y = df_cleaned[target]\n",
        "\n",
        "# Mengubah fitur kategorikal menjadi dummy variabel\n",
        "X = pd.get_dummies(X, columns=['Gender', 'Age', 'Ethnicity'], drop_first=True)\n",
        "\n",
        "# Membagi data menjadi training (80%) dan testing (20%)\n",
        "X_train, X_test, y_train, y_test = train_test_split(X, y, test_size=0.2, random_state=42)\n"
      ],
      "metadata": {
        "id": "qV9wkFxb5UE5"
      },
      "execution_count": 9,
      "outputs": []
    },
    {
      "cell_type": "markdown",
      "source": [
        "### 3.2. Model K-NN Regressor\n",
        "\n",
        "Model K-NN digunakan dengan parameter n_neighbors=5. Berikut adalah cuplikan kode untuk membangun dan melatih model K-NN:\n",
        "\n"
      ],
      "metadata": {
        "id": "iFfOAnV45VMW"
      }
    },
    {
      "cell_type": "code",
      "source": [
        "from sklearn.neighbors import KNeighborsRegressor\n",
        "\n",
        "# Membuat dan melatih model K-NN\n",
        "knn = KNeighborsRegressor(n_neighbors=5)\n",
        "knn.fit(X_train, y_train)\n",
        "y_pred_knn = knn.predict(X_test)\n"
      ],
      "metadata": {
        "id": "VLwVSyoV5Yp3"
      },
      "execution_count": 10,
      "outputs": []
    },
    {
      "cell_type": "markdown",
      "source": [
        "### 3.3. Model Decision Tree Regressor\n",
        "\n",
        "Model Decision Tree juga dibangun untuk perbandingan. Berikut kode untuk Decision Tree:\n",
        "\n"
      ],
      "metadata": {
        "id": "YGNuZLty5ZNc"
      }
    },
    {
      "cell_type": "code",
      "source": [
        "from sklearn.tree import DecisionTreeRegressor\n",
        "\n",
        "# Membuat dan melatih model Decision Tree\n",
        "tree = DecisionTreeRegressor(random_state=42)\n",
        "tree.fit(X_train, y_train)\n",
        "y_pred_tree = tree.predict(X_test)\n"
      ],
      "metadata": {
        "id": "fNuvYb5W5cy1"
      },
      "execution_count": 11,
      "outputs": []
    },
    {
      "cell_type": "markdown",
      "source": [
        "## 4. Evaluasi Model\n",
        "\n",
        "Untuk mengevaluasi performa masing-masing model, digunakan matriks evaluasi:\n",
        "\n",
        "- Mean Squared Error (MSE)\n",
        "- Root Mean Squared Error (RMSE)\n",
        "- Coefficient of Determination (R²)"
      ],
      "metadata": {
        "id": "YBm5flxR5ubP"
      }
    },
    {
      "cell_type": "markdown",
      "source": [
        "### 4.1. Definisi dan Penjelasan Metrik Evaluasi\n",
        "\n",
        "- MSE (Mean Squared Error): Rata-rata dari kuadrat selisih antara nilai aktual dan prediksi. Semakin kecil, semakin baik.\n",
        "- RMSE (Root MSE): Akar dari MSE, memberikan skala error yang sama dengan data asli.\n",
        "- R² (R-Squared): Proporsi variasi dalam data target yang bisa dijelaskan oleh model. Nilai 1 berarti prediksi sempurna, 0 berarti prediksi acak.\n"
      ],
      "metadata": {
        "id": "jlgMDodX6MWs"
      }
    },
    {
      "cell_type": "markdown",
      "source": [
        "### 4.2. Kode Evaluasi\n",
        "\n",
        "Berikut adalah kode untuk menghitung metrik evaluasi bagi kedua model:\n"
      ],
      "metadata": {
        "id": "N-2LNS3r7K7O"
      }
    },
    {
      "cell_type": "code",
      "source": [
        "import numpy as np\n",
        "from sklearn.metrics import mean_squared_error, r2_score\n",
        "\n",
        "def evaluate_model(y_true, y_pred):\n",
        "    # Menghitung Mean Squared Error (MSE)\n",
        "    mse = mean_squared_error(y_true, y_pred)\n",
        "    # Menghitung Root Mean Squared Error (RMSE)\n",
        "    rmse = np.sqrt(mse)\n",
        "    # Menghitung R² (Coefficient of Determination)\n",
        "    r2 = r2_score(y_true, y_pred)\n",
        "    return mse, rmse, r2\n",
        "\n",
        "# Evaluasi untuk model K-NN\n",
        "mse_knn, rmse_knn, r2_knn = evaluate_model(y_test, y_pred_knn)\n",
        "print(\"Evaluasi Model K-NN Regression:\")\n",
        "print(\"MSE     :\", mse_knn)\n",
        "print(\"RMSE    :\", rmse_knn)\n",
        "print(\"R-squared:\", r2_knn)\n",
        "\n",
        "# Evaluasi untuk model Decision Tree\n",
        "mse_tree, rmse_tree, r2_tree = evaluate_model(y_test, y_pred_tree)\n",
        "print(\"\\nEvaluasi Model Decision Tree Regression:\")\n",
        "print(\"MSE     :\", mse_tree)\n",
        "print(\"RMSE    :\", rmse_tree)\n",
        "print(\"R-squared:\", r2_tree)\n"
      ],
      "metadata": {
        "colab": {
          "base_uri": "https://localhost:8080/"
        },
        "id": "qMZEHYpT7QP0",
        "outputId": "481cae39-ac29-45ac-d547-642f7ff724f6"
      },
      "execution_count": 12,
      "outputs": [
        {
          "output_type": "stream",
          "name": "stdout",
          "text": [
            "Evaluasi Model K-NN Regression:\n",
            "MSE     : 0.08294215686274502\n",
            "RMSE    : 0.2879968000911556\n",
            "R-squared: 0.5830409068506659\n",
            "\n",
            "Evaluasi Model Decision Tree Regression:\n",
            "MSE     : 0.1190318627450982\n",
            "RMSE    : 0.34500994586402606\n",
            "R-squared: 0.40161409561360206\n"
          ]
        }
      ]
    },
    {
      "cell_type": "markdown",
      "source": [
        "## 5. Kesimpulan\n",
        "\n",
        "- K-NN mengungguli Decision Tree dalam semua metrik evaluasi (MSE, RMSE, dan R²).\n",
        "\n",
        "- Nilai R² K-NN sebesar 0.7286 menunjukkan bahwa model ini mampu menjelaskan sekitar 72.9% variansi dari target (aveOralM) — ini termasuk performa yang cukup baik.\n",
        "\n",
        "- Model Decision Tree memiliki performa lebih rendah (R²: 0.5793), kemungkinan karena overfitting terhadap data latih atau karena tidak dilakukan tuning seperti pemangkasan (pruning) atau pengaturan kedalaman maksimum (max_depth).\n",
        "\n",
        "- Model K-NN cocok digunakan pada dataset ini karena distribusi target cukup halus dan fitur-fiturnya mendukung pendekatan berdasarkan kedekatan nilai."
      ],
      "metadata": {
        "id": "yU8AbsaO7SQA"
      }
    }
  ]
}